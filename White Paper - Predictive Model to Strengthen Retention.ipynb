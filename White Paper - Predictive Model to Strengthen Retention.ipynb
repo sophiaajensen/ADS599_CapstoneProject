{
 "cells": [
  {
   "cell_type": "markdown",
   "id": "29dc358e",
   "metadata": {},
   "source": [
    "# A Predictive Model to Strengthen Retention in Government Agencies: Sentiment Factors Driving Employee Exits\n",
    "\n",
    "**Authors:** _Sophia Jensen, Duy Nguyen_  \n",
    "_Applied Data Science Master’s Program <br>\n",
    "Shiley Marcos School of Engineering / University of San Diego_ <br>\n",
    "**Date:** August 11, 2025\n",
    "\n",
    "---\n"
   ]
  },
  {
   "cell_type": "markdown",
   "id": "2dfab376",
   "metadata": {},
   "source": [
    "## Abstract\n",
    "\n",
    "Factors that lead employees to consider leaving the organization are a challenge for organizations,resulting in lost productivity, increased hiringcosts, and reduced team morale (De Winne et al.,2019). This project investigated factors leading tothe exit consideration of the federal workforce by analyzing survey data from the Federal Employee Viewpoint Survey (FEVS) between 2020 and 2024. Using a combination of data preprocessing, feature engineering, and machine learning techniques, predictive models were developed to classify whether an employee would consider leaving their agency. Key steps included: (a) handling class imbalance through Synthetic Minority Oversampling Technique (SMOTE), (b) encoding categorical features, and (c) transforming ordinal Likert-scale survey itemsinto binary predictors. Three classification algorithms—logistic regression, decision tree, and XGBoost—were evaluated using accuracy,\n",
    "precision, recall, and F1-score. Although the XGBoost model achieved the highest overall accuracy (81%) and provided meaningful feature insights, its recall for the minority leave class was limited, which highlights a challenge of detecting at-risk employees. Feature importance analysis revealed that employee recognition, role clarity, and supervisor alignment are critical predictors of turnover intent. Notably, gender emerged as a top predictive feature, suggesting the need for future fairness analysis. This study provided a data-driven framework for human resources (HR) teams to proactively identify and support employees who are considering leaving the organization.\n"
   ]
  },
  {
   "attachments": {},
   "cell_type": "markdown",
   "id": "3b4ed2fd-5e1a-4a85-b2eb-0f7b413aab51",
   "metadata": {},
   "source": [
    "### Background and Problem Statement\n",
    "Employee turnover is a costly, noisy, and complex challenge for organizations. Research shows that replacing managers or technical professionals can cost up to 200% of their annual salary, and for other roles, up to 80% (Tatel & Wigert, 2024). \n",
    "Beyond the financial burden, the scale of the problem is significant; according to Tatal and Wigert, over half of U.S. employees are actively seeking new job opportunities. This creates instability, disrupts team performance, and increases recruitment and training demands that could have been mitigated\n",
    "\n",
    "An employee’s decision to leave is shaped by a wide range of experiences—how supported they feel in their work, the quality of their team relationships, their trust in their direct and senior leadership team, their day-to-day satisfaction, and whether they feel recognized and rewarded for their contributions.\r\n",
    "This multidimensional nature of employee experience means that solving turnover requires more than just addressing pay or workload—it demands a deeper, data-driven understanding of the interconnected factors influencing retention\n",
    ".\n",
    " "
   ]
  },
  {
   "cell_type": "markdown",
   "id": "5edcf5cf-7ffc-409f-a142-2ff9cabb9320",
   "metadata": {},
   "source": [
    "### Objectives\n",
    "- Identify key factors influencing turnover intent.\n",
    "- Build a predictive classification model for at-risk employee detection.\n",
    "- Provide prescriptive insights to guide targeted retention strategies"
   ]
  },
  {
   "cell_type": "markdown",
   "id": "80f69533-8041-4fa2-b9f4-3dcab2c278b0",
   "metadata": {},
   "source": [
    "### Data & Methodology\n",
    "**Data Source:** Federal Employee Viewpoint Survey (FEVS) from the U.S. Office of Personnel Management, 2020–2024 (~2.77M responses). <br>\n",
    "**Key Steps:** <br>\n",
    "**Data Cleaning:** Removed incomplete target values; standardized columns across years; filled missing demographic values with mode. <br>\n",
    "**Feature Engineering:** Recoded Likert-scale responses (1–3 = unfavorable, 4–5 = favorable); one-hot encoded categorical variables. <br>\n",
    "**Class Imbalance Handling:** Applied SMOTE to training data. <br>\n",
    "**Modeling:** Compared Logistic Regression, Decision Tree, and XGBoost classifiers. <br>\n",
    "**Evaluation:** Measured accuracy, precision, recall, and F1-score."
   ]
  },
  {
   "cell_type": "markdown",
   "id": "97ee254d-8ab8-43db-92cc-4a77e741d2d8",
   "metadata": {},
   "source": [
    "### Results\n",
    "- **Best Model:** XGBoost (Accuracy: 81%, F1-score: 77% for majority class)\n",
    "- **Top Predictors:** Employee recognition (Q6), job expectation clarity (Q36), and alignment with agency goals (Q34), plus gender\n",
    "- **Gender Analysis:** Male employees had a slightly higher attrition rate (20.04%) than female employees (18.29%), with statistically significant differences (p < 0.001)"
   ]
  },
  {
   "cell_type": "markdown",
   "id": "1ce119ef-a322-4bdd-8623-49ba55ce3e1d",
   "metadata": {},
   "source": [
    "### Key Insights\n",
    "- Recognition, clarity, and alignment are strong drivers of retention\n",
    "- Gender differences in attrition rates may warrant targeted HR interventions\n",
    "- The model excels at detecting employees likely to stay but needs improvement in minority-class recall"
   ]
  },
  {
   "cell_type": "markdown",
   "id": "6f6dc8e6-f6e9-4e92-9199-3d17614ad8b2",
   "metadata": {},
   "source": [
    "### Recommendations\n",
    "1. Implement recognition programs that highlight employee contributions\n",
    "2. Enhance role clarity through improved communication from leadership\n",
    "3. Align individual roles with organizational goals to boost engagement\n",
    "4. Conduct fairness analysis to ensure predictive models do not amplify demographic biases\n",
    "5. Explore advanced balancing techniques to improve minority-class recall"
   ]
  },
  {
   "cell_type": "markdown",
   "id": "23c5f895-2080-40f7-b030-c75bb8b4a824",
   "metadata": {},
   "source": [
    "### Limitations\n",
    "- Limited hyperparameter tuning due to computational constraints\n",
    "- Lower recall for the leave class indicates potential bias toward majority class\n",
    "- Sensitivity of HR data restricted some analyses"
   ]
  },
  {
   "cell_type": "markdown",
   "id": "15b03cd3-15fe-45f7-a6e9-56f0599baebf",
   "metadata": {},
   "source": [
    "### Future Work\n",
    "- Optimize XGBoost hyperparameters\n",
    "- Incorporate additional demographic and engagement variables\n",
    "- Deploy model in a live HR environment with continuous feedback loops"
   ]
  },
  {
   "cell_type": "markdown",
   "id": "b15f41cd-52f4-4374-b02c-4096525ca0e4",
   "metadata": {},
   "source": [
    "### Conclusion\n",
    "A data-driven, predictive approach to employee retention enables proactive HR strategies, improving workforce stability and reducing costs. \n",
    "With refinement, such models can significantly enhance the federal workforce's operational resilience."
   ]
  }
 ],
 "metadata": {
  "kernelspec": {
   "display_name": "Python 3 (ipykernel)",
   "language": "python",
   "name": "python3"
  },
  "language_info": {
   "codemirror_mode": {
    "name": "ipython",
    "version": 3
   },
   "file_extension": ".py",
   "mimetype": "text/x-python",
   "name": "python",
   "nbconvert_exporter": "python",
   "pygments_lexer": "ipython3",
   "version": "3.11.7"
  }
 },
 "nbformat": 4,
 "nbformat_minor": 5
}
