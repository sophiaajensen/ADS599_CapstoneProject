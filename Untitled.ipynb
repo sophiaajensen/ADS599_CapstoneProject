{
 "cells": [
  {
   "cell_type": "markdown",
   "id": "ce9077f3-b766-4286-85d3-7e67c65f74fc",
   "metadata": {},
   "source": [
    "# Identifying Key Predictors of Voluntary Employee Turnover\n",
    "*By Sophia Jensen and Duy Nguyen | July 2025*\n",
    "<br>The notebook is the technical coding to support the research of Identifying Key Predictors of Voluntary Employee Turnover: Using a Predictive Model Approach"
   ]
  },
  {
   "cell_type": "markdown",
   "id": "a6c30b93-436c-47a7-bde7-a06ba827a164",
   "metadata": {},
   "source": [
    "## Background and Installation"
   ]
  },
  {
   "cell_type": "code",
   "execution_count": null,
   "id": "f5f93427-c2bb-4c01-bcd3-85f3b9641fb7",
   "metadata": {},
   "outputs": [],
   "source": [
    "#import packages\n",
    "import pandas as pd \n",
    "import matplotlib.pyplot as plt\n",
    "import seaborn as sns"
   ]
  },
  {
   "cell_type": "code",
   "execution_count": null,
   "id": "bb42fd8a-8edd-406c-8acc-29b9a898649b",
   "metadata": {},
   "outputs": [],
   "source": [
    "#import data\n"
   ]
  },
  {
   "cell_type": "code",
   "execution_count": null,
   "id": "1c91426c-4c50-4353-85d4-976b4cdff6b6",
   "metadata": {},
   "outputs": [],
   "source": []
  }
 ],
 "metadata": {
  "kernelspec": {
   "display_name": "Python 3 (ipykernel)",
   "language": "python",
   "name": "python3"
  },
  "language_info": {
   "codemirror_mode": {
    "name": "ipython",
    "version": 3
   },
   "file_extension": ".py",
   "mimetype": "text/x-python",
   "name": "python",
   "nbconvert_exporter": "python",
   "pygments_lexer": "ipython3",
   "version": "3.13.1"
  }
 },
 "nbformat": 4,
 "nbformat_minor": 5
}
